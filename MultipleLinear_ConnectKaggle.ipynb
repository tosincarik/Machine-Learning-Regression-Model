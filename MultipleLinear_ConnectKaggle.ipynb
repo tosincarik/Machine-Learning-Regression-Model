{
  "nbformat": 4,
  "nbformat_minor": 0,
  "metadata": {
    "colab": {
      "provenance": [],
      "authorship_tag": "ABX9TyNxFW72/HmmR6t3WNws/zQl",
      "include_colab_link": true
    },
    "kernelspec": {
      "name": "python3",
      "display_name": "Python 3"
    },
    "language_info": {
      "name": "python"
    }
  },
  "cells": [
    {
      "cell_type": "markdown",
      "metadata": {
        "id": "view-in-github",
        "colab_type": "text"
      },
      "source": [
        "<a href=\"https://colab.research.google.com/github/tosincarik/Regression-Model/blob/main/MultipleLinear_ConnectKaggle.ipynb\" target=\"_parent\"><img src=\"https://colab.research.google.com/assets/colab-badge.svg\" alt=\"Open In Colab\"/></a>"
      ]
    },
    {
      "cell_type": "code",
      "execution_count": 158,
      "metadata": {
        "id": "wLSfCzKx_VSz"
      },
      "outputs": [],
      "source": [
        "import numpy as np\n",
        "import pandas as pd\n",
        "import matplotlib.pyplot as plt"
      ]
    },
    {
      "cell_type": "code",
      "source": [
        "!pip  install opendatasets\n",
        "!pip install pandas"
      ],
      "metadata": {
        "colab": {
          "base_uri": "https://localhost:8080/"
        },
        "id": "E2ooSf17_66F",
        "outputId": "e7e0769d-e4d8-4bf0-a4ae-2ce12f449760"
      },
      "execution_count": 159,
      "outputs": [
        {
          "output_type": "stream",
          "name": "stdout",
          "text": [
            "Requirement already satisfied: opendatasets in /usr/local/lib/python3.10/dist-packages (0.1.22)\n",
            "Requirement already satisfied: tqdm in /usr/local/lib/python3.10/dist-packages (from opendatasets) (4.66.2)\n",
            "Requirement already satisfied: kaggle in /usr/local/lib/python3.10/dist-packages (from opendatasets) (1.5.16)\n",
            "Requirement already satisfied: click in /usr/local/lib/python3.10/dist-packages (from opendatasets) (8.1.7)\n",
            "Requirement already satisfied: six>=1.10 in /usr/local/lib/python3.10/dist-packages (from kaggle->opendatasets) (1.16.0)\n",
            "Requirement already satisfied: certifi in /usr/local/lib/python3.10/dist-packages (from kaggle->opendatasets) (2024.2.2)\n",
            "Requirement already satisfied: python-dateutil in /usr/local/lib/python3.10/dist-packages (from kaggle->opendatasets) (2.8.2)\n",
            "Requirement already satisfied: requests in /usr/local/lib/python3.10/dist-packages (from kaggle->opendatasets) (2.31.0)\n",
            "Requirement already satisfied: python-slugify in /usr/local/lib/python3.10/dist-packages (from kaggle->opendatasets) (8.0.4)\n",
            "Requirement already satisfied: urllib3 in /usr/local/lib/python3.10/dist-packages (from kaggle->opendatasets) (2.0.7)\n",
            "Requirement already satisfied: bleach in /usr/local/lib/python3.10/dist-packages (from kaggle->opendatasets) (6.1.0)\n",
            "Requirement already satisfied: webencodings in /usr/local/lib/python3.10/dist-packages (from bleach->kaggle->opendatasets) (0.5.1)\n",
            "Requirement already satisfied: text-unidecode>=1.3 in /usr/local/lib/python3.10/dist-packages (from python-slugify->kaggle->opendatasets) (1.3)\n",
            "Requirement already satisfied: charset-normalizer<4,>=2 in /usr/local/lib/python3.10/dist-packages (from requests->kaggle->opendatasets) (3.3.2)\n",
            "Requirement already satisfied: idna<4,>=2.5 in /usr/local/lib/python3.10/dist-packages (from requests->kaggle->opendatasets) (3.6)\n",
            "Requirement already satisfied: pandas in /usr/local/lib/python3.10/dist-packages (1.5.3)\n",
            "Requirement already satisfied: python-dateutil>=2.8.1 in /usr/local/lib/python3.10/dist-packages (from pandas) (2.8.2)\n",
            "Requirement already satisfied: pytz>=2020.1 in /usr/local/lib/python3.10/dist-packages (from pandas) (2023.4)\n",
            "Requirement already satisfied: numpy>=1.21.0 in /usr/local/lib/python3.10/dist-packages (from pandas) (1.25.2)\n",
            "Requirement already satisfied: six>=1.5 in /usr/local/lib/python3.10/dist-packages (from python-dateutil>=2.8.1->pandas) (1.16.0)\n"
          ]
        }
      ]
    },
    {
      "cell_type": "code",
      "source": [
        "!pip install kaggle"
      ],
      "metadata": {
        "colab": {
          "base_uri": "https://localhost:8080/"
        },
        "id": "DKWbGh8BBazF",
        "outputId": "a0719d68-9d92-440b-e04f-2897724ed22c"
      },
      "execution_count": 160,
      "outputs": [
        {
          "output_type": "stream",
          "name": "stdout",
          "text": [
            "Requirement already satisfied: kaggle in /usr/local/lib/python3.10/dist-packages (1.5.16)\n",
            "Requirement already satisfied: six>=1.10 in /usr/local/lib/python3.10/dist-packages (from kaggle) (1.16.0)\n",
            "Requirement already satisfied: certifi in /usr/local/lib/python3.10/dist-packages (from kaggle) (2024.2.2)\n",
            "Requirement already satisfied: python-dateutil in /usr/local/lib/python3.10/dist-packages (from kaggle) (2.8.2)\n",
            "Requirement already satisfied: requests in /usr/local/lib/python3.10/dist-packages (from kaggle) (2.31.0)\n",
            "Requirement already satisfied: tqdm in /usr/local/lib/python3.10/dist-packages (from kaggle) (4.66.2)\n",
            "Requirement already satisfied: python-slugify in /usr/local/lib/python3.10/dist-packages (from kaggle) (8.0.4)\n",
            "Requirement already satisfied: urllib3 in /usr/local/lib/python3.10/dist-packages (from kaggle) (2.0.7)\n",
            "Requirement already satisfied: bleach in /usr/local/lib/python3.10/dist-packages (from kaggle) (6.1.0)\n",
            "Requirement already satisfied: webencodings in /usr/local/lib/python3.10/dist-packages (from bleach->kaggle) (0.5.1)\n",
            "Requirement already satisfied: text-unidecode>=1.3 in /usr/local/lib/python3.10/dist-packages (from python-slugify->kaggle) (1.3)\n",
            "Requirement already satisfied: charset-normalizer<4,>=2 in /usr/local/lib/python3.10/dist-packages (from requests->kaggle) (3.3.2)\n",
            "Requirement already satisfied: idna<4,>=2.5 in /usr/local/lib/python3.10/dist-packages (from requests->kaggle) (3.6)\n"
          ]
        }
      ]
    },
    {
      "cell_type": "code",
      "source": [
        "mkdir ~/.kaggle"
      ],
      "metadata": {
        "colab": {
          "base_uri": "https://localhost:8080/"
        },
        "id": "O6WsFPrOBiWm",
        "outputId": "e9e8f838-fe39-443f-ad11-aee9d58a8d01"
      },
      "execution_count": 161,
      "outputs": [
        {
          "output_type": "stream",
          "name": "stdout",
          "text": [
            "mkdir: cannot create directory ‘/root/.kaggle’: File exists\n"
          ]
        }
      ]
    },
    {
      "cell_type": "code",
      "source": [
        "cp kaggle.json ~/.kaggle/"
      ],
      "metadata": {
        "id": "y8lD0RlYBuME"
      },
      "execution_count": 162,
      "outputs": []
    },
    {
      "cell_type": "code",
      "source": [
        "import opendatasets as od\n",
        "import pandas"
      ],
      "metadata": {
        "id": "wzREL8o6B-Ph"
      },
      "execution_count": 163,
      "outputs": []
    },
    {
      "cell_type": "code",
      "source": [
        "! chmod 600 ~/.kaggle/kaggle.json"
      ],
      "metadata": {
        "id": "qAYLH9qdCiBN"
      },
      "execution_count": 164,
      "outputs": []
    },
    {
      "cell_type": "code",
      "source": [
        "! kaggle datasets download akshaydattatraykhare/data-for-admission-in-the-university"
      ],
      "metadata": {
        "colab": {
          "base_uri": "https://localhost:8080/"
        },
        "id": "H0VpHBHHC87m",
        "outputId": "b771ff95-062e-4e23-ab0c-3eac5efe1c04"
      },
      "execution_count": 165,
      "outputs": [
        {
          "output_type": "stream",
          "name": "stdout",
          "text": [
            "data-for-admission-in-the-university.zip: Skipping, found more recently modified local copy (use --force to force download)\n"
          ]
        }
      ]
    },
    {
      "cell_type": "code",
      "source": [
        "! unzip data-for-admission-in-the-university"
      ],
      "metadata": {
        "colab": {
          "base_uri": "https://localhost:8080/"
        },
        "id": "JVw0bSVGDUbA",
        "outputId": "4beda438-35db-4556-bd82-53b67c069861"
      },
      "execution_count": 166,
      "outputs": [
        {
          "output_type": "stream",
          "name": "stdout",
          "text": [
            "Archive:  data-for-admission-in-the-university.zip\n",
            "replace adm_data.csv? [y]es, [n]o, [A]ll, [N]one, [r]ename: "
          ]
        }
      ]
    },
    {
      "cell_type": "code",
      "source": [
        "df_adm = pd.read_csv('adm_data.csv')"
      ],
      "metadata": {
        "id": "CtySmQB-E-bX"
      },
      "execution_count": 167,
      "outputs": []
    },
    {
      "cell_type": "code",
      "source": [
        "## Check if there are any missing values in the dataset\n",
        "\n",
        "df_adm.isnull().values.any()"
      ],
      "metadata": {
        "id": "hGPoPlsSGj2r",
        "colab": {
          "base_uri": "https://localhost:8080/"
        },
        "outputId": "037a451f-11d6-4502-f6c1-ae949aa578c7"
      },
      "execution_count": 187,
      "outputs": [
        {
          "output_type": "execute_result",
          "data": {
            "text/plain": [
              "False"
            ]
          },
          "metadata": {},
          "execution_count": 187
        }
      ]
    },
    {
      "cell_type": "code",
      "source": [
        "df_adm.head()"
      ],
      "metadata": {
        "id": "sud8onYEHjv_",
        "colab": {
          "base_uri": "https://localhost:8080/",
          "height": 206
        },
        "outputId": "4ee167d9-5887-4d5e-c3f7-82c5c39d8600"
      },
      "execution_count": 188,
      "outputs": [
        {
          "output_type": "execute_result",
          "data": {
            "text/plain": [
              "   Serial No.  GRE Score  TOEFL Score  University Rating  SOP  LOR   CGPA  \\\n",
              "0           1        337          118                  4  4.5   4.5  9.65   \n",
              "1           2        324          107                  4  4.0   4.5  8.87   \n",
              "2           3        316          104                  3  3.0   3.5  8.00   \n",
              "3           4        322          110                  3  3.5   2.5  8.67   \n",
              "4           5        314          103                  2  2.0   3.0  8.21   \n",
              "\n",
              "   Research  Chance of Admit   \n",
              "0         1              0.92  \n",
              "1         1              0.76  \n",
              "2         1              0.72  \n",
              "3         1              0.80  \n",
              "4         0              0.65  "
            ],
            "text/html": [
              "\n",
              "  <div id=\"df-6c66fdaa-8066-4fa6-a155-bc0d892ce294\" class=\"colab-df-container\">\n",
              "    <div>\n",
              "<style scoped>\n",
              "    .dataframe tbody tr th:only-of-type {\n",
              "        vertical-align: middle;\n",
              "    }\n",
              "\n",
              "    .dataframe tbody tr th {\n",
              "        vertical-align: top;\n",
              "    }\n",
              "\n",
              "    .dataframe thead th {\n",
              "        text-align: right;\n",
              "    }\n",
              "</style>\n",
              "<table border=\"1\" class=\"dataframe\">\n",
              "  <thead>\n",
              "    <tr style=\"text-align: right;\">\n",
              "      <th></th>\n",
              "      <th>Serial No.</th>\n",
              "      <th>GRE Score</th>\n",
              "      <th>TOEFL Score</th>\n",
              "      <th>University Rating</th>\n",
              "      <th>SOP</th>\n",
              "      <th>LOR</th>\n",
              "      <th>CGPA</th>\n",
              "      <th>Research</th>\n",
              "      <th>Chance of Admit</th>\n",
              "    </tr>\n",
              "  </thead>\n",
              "  <tbody>\n",
              "    <tr>\n",
              "      <th>0</th>\n",
              "      <td>1</td>\n",
              "      <td>337</td>\n",
              "      <td>118</td>\n",
              "      <td>4</td>\n",
              "      <td>4.5</td>\n",
              "      <td>4.5</td>\n",
              "      <td>9.65</td>\n",
              "      <td>1</td>\n",
              "      <td>0.92</td>\n",
              "    </tr>\n",
              "    <tr>\n",
              "      <th>1</th>\n",
              "      <td>2</td>\n",
              "      <td>324</td>\n",
              "      <td>107</td>\n",
              "      <td>4</td>\n",
              "      <td>4.0</td>\n",
              "      <td>4.5</td>\n",
              "      <td>8.87</td>\n",
              "      <td>1</td>\n",
              "      <td>0.76</td>\n",
              "    </tr>\n",
              "    <tr>\n",
              "      <th>2</th>\n",
              "      <td>3</td>\n",
              "      <td>316</td>\n",
              "      <td>104</td>\n",
              "      <td>3</td>\n",
              "      <td>3.0</td>\n",
              "      <td>3.5</td>\n",
              "      <td>8.00</td>\n",
              "      <td>1</td>\n",
              "      <td>0.72</td>\n",
              "    </tr>\n",
              "    <tr>\n",
              "      <th>3</th>\n",
              "      <td>4</td>\n",
              "      <td>322</td>\n",
              "      <td>110</td>\n",
              "      <td>3</td>\n",
              "      <td>3.5</td>\n",
              "      <td>2.5</td>\n",
              "      <td>8.67</td>\n",
              "      <td>1</td>\n",
              "      <td>0.80</td>\n",
              "    </tr>\n",
              "    <tr>\n",
              "      <th>4</th>\n",
              "      <td>5</td>\n",
              "      <td>314</td>\n",
              "      <td>103</td>\n",
              "      <td>2</td>\n",
              "      <td>2.0</td>\n",
              "      <td>3.0</td>\n",
              "      <td>8.21</td>\n",
              "      <td>0</td>\n",
              "      <td>0.65</td>\n",
              "    </tr>\n",
              "  </tbody>\n",
              "</table>\n",
              "</div>\n",
              "    <div class=\"colab-df-buttons\">\n",
              "\n",
              "  <div class=\"colab-df-container\">\n",
              "    <button class=\"colab-df-convert\" onclick=\"convertToInteractive('df-6c66fdaa-8066-4fa6-a155-bc0d892ce294')\"\n",
              "            title=\"Convert this dataframe to an interactive table.\"\n",
              "            style=\"display:none;\">\n",
              "\n",
              "  <svg xmlns=\"http://www.w3.org/2000/svg\" height=\"24px\" viewBox=\"0 -960 960 960\">\n",
              "    <path d=\"M120-120v-720h720v720H120Zm60-500h600v-160H180v160Zm220 220h160v-160H400v160Zm0 220h160v-160H400v160ZM180-400h160v-160H180v160Zm440 0h160v-160H620v160ZM180-180h160v-160H180v160Zm440 0h160v-160H620v160Z\"/>\n",
              "  </svg>\n",
              "    </button>\n",
              "\n",
              "  <style>\n",
              "    .colab-df-container {\n",
              "      display:flex;\n",
              "      gap: 12px;\n",
              "    }\n",
              "\n",
              "    .colab-df-convert {\n",
              "      background-color: #E8F0FE;\n",
              "      border: none;\n",
              "      border-radius: 50%;\n",
              "      cursor: pointer;\n",
              "      display: none;\n",
              "      fill: #1967D2;\n",
              "      height: 32px;\n",
              "      padding: 0 0 0 0;\n",
              "      width: 32px;\n",
              "    }\n",
              "\n",
              "    .colab-df-convert:hover {\n",
              "      background-color: #E2EBFA;\n",
              "      box-shadow: 0px 1px 2px rgba(60, 64, 67, 0.3), 0px 1px 3px 1px rgba(60, 64, 67, 0.15);\n",
              "      fill: #174EA6;\n",
              "    }\n",
              "\n",
              "    .colab-df-buttons div {\n",
              "      margin-bottom: 4px;\n",
              "    }\n",
              "\n",
              "    [theme=dark] .colab-df-convert {\n",
              "      background-color: #3B4455;\n",
              "      fill: #D2E3FC;\n",
              "    }\n",
              "\n",
              "    [theme=dark] .colab-df-convert:hover {\n",
              "      background-color: #434B5C;\n",
              "      box-shadow: 0px 1px 3px 1px rgba(0, 0, 0, 0.15);\n",
              "      filter: drop-shadow(0px 1px 2px rgba(0, 0, 0, 0.3));\n",
              "      fill: #FFFFFF;\n",
              "    }\n",
              "  </style>\n",
              "\n",
              "    <script>\n",
              "      const buttonEl =\n",
              "        document.querySelector('#df-6c66fdaa-8066-4fa6-a155-bc0d892ce294 button.colab-df-convert');\n",
              "      buttonEl.style.display =\n",
              "        google.colab.kernel.accessAllowed ? 'block' : 'none';\n",
              "\n",
              "      async function convertToInteractive(key) {\n",
              "        const element = document.querySelector('#df-6c66fdaa-8066-4fa6-a155-bc0d892ce294');\n",
              "        const dataTable =\n",
              "          await google.colab.kernel.invokeFunction('convertToInteractive',\n",
              "                                                    [key], {});\n",
              "        if (!dataTable) return;\n",
              "\n",
              "        const docLinkHtml = 'Like what you see? Visit the ' +\n",
              "          '<a target=\"_blank\" href=https://colab.research.google.com/notebooks/data_table.ipynb>data table notebook</a>'\n",
              "          + ' to learn more about interactive tables.';\n",
              "        element.innerHTML = '';\n",
              "        dataTable['output_type'] = 'display_data';\n",
              "        await google.colab.output.renderOutput(dataTable, element);\n",
              "        const docLink = document.createElement('div');\n",
              "        docLink.innerHTML = docLinkHtml;\n",
              "        element.appendChild(docLink);\n",
              "      }\n",
              "    </script>\n",
              "  </div>\n",
              "\n",
              "\n",
              "<div id=\"df-53255ae5-1404-400a-8120-ee7a8b9a1033\">\n",
              "  <button class=\"colab-df-quickchart\" onclick=\"quickchart('df-53255ae5-1404-400a-8120-ee7a8b9a1033')\"\n",
              "            title=\"Suggest charts\"\n",
              "            style=\"display:none;\">\n",
              "\n",
              "<svg xmlns=\"http://www.w3.org/2000/svg\" height=\"24px\"viewBox=\"0 0 24 24\"\n",
              "     width=\"24px\">\n",
              "    <g>\n",
              "        <path d=\"M19 3H5c-1.1 0-2 .9-2 2v14c0 1.1.9 2 2 2h14c1.1 0 2-.9 2-2V5c0-1.1-.9-2-2-2zM9 17H7v-7h2v7zm4 0h-2V7h2v10zm4 0h-2v-4h2v4z\"/>\n",
              "    </g>\n",
              "</svg>\n",
              "  </button>\n",
              "\n",
              "<style>\n",
              "  .colab-df-quickchart {\n",
              "      --bg-color: #E8F0FE;\n",
              "      --fill-color: #1967D2;\n",
              "      --hover-bg-color: #E2EBFA;\n",
              "      --hover-fill-color: #174EA6;\n",
              "      --disabled-fill-color: #AAA;\n",
              "      --disabled-bg-color: #DDD;\n",
              "  }\n",
              "\n",
              "  [theme=dark] .colab-df-quickchart {\n",
              "      --bg-color: #3B4455;\n",
              "      --fill-color: #D2E3FC;\n",
              "      --hover-bg-color: #434B5C;\n",
              "      --hover-fill-color: #FFFFFF;\n",
              "      --disabled-bg-color: #3B4455;\n",
              "      --disabled-fill-color: #666;\n",
              "  }\n",
              "\n",
              "  .colab-df-quickchart {\n",
              "    background-color: var(--bg-color);\n",
              "    border: none;\n",
              "    border-radius: 50%;\n",
              "    cursor: pointer;\n",
              "    display: none;\n",
              "    fill: var(--fill-color);\n",
              "    height: 32px;\n",
              "    padding: 0;\n",
              "    width: 32px;\n",
              "  }\n",
              "\n",
              "  .colab-df-quickchart:hover {\n",
              "    background-color: var(--hover-bg-color);\n",
              "    box-shadow: 0 1px 2px rgba(60, 64, 67, 0.3), 0 1px 3px 1px rgba(60, 64, 67, 0.15);\n",
              "    fill: var(--button-hover-fill-color);\n",
              "  }\n",
              "\n",
              "  .colab-df-quickchart-complete:disabled,\n",
              "  .colab-df-quickchart-complete:disabled:hover {\n",
              "    background-color: var(--disabled-bg-color);\n",
              "    fill: var(--disabled-fill-color);\n",
              "    box-shadow: none;\n",
              "  }\n",
              "\n",
              "  .colab-df-spinner {\n",
              "    border: 2px solid var(--fill-color);\n",
              "    border-color: transparent;\n",
              "    border-bottom-color: var(--fill-color);\n",
              "    animation:\n",
              "      spin 1s steps(1) infinite;\n",
              "  }\n",
              "\n",
              "  @keyframes spin {\n",
              "    0% {\n",
              "      border-color: transparent;\n",
              "      border-bottom-color: var(--fill-color);\n",
              "      border-left-color: var(--fill-color);\n",
              "    }\n",
              "    20% {\n",
              "      border-color: transparent;\n",
              "      border-left-color: var(--fill-color);\n",
              "      border-top-color: var(--fill-color);\n",
              "    }\n",
              "    30% {\n",
              "      border-color: transparent;\n",
              "      border-left-color: var(--fill-color);\n",
              "      border-top-color: var(--fill-color);\n",
              "      border-right-color: var(--fill-color);\n",
              "    }\n",
              "    40% {\n",
              "      border-color: transparent;\n",
              "      border-right-color: var(--fill-color);\n",
              "      border-top-color: var(--fill-color);\n",
              "    }\n",
              "    60% {\n",
              "      border-color: transparent;\n",
              "      border-right-color: var(--fill-color);\n",
              "    }\n",
              "    80% {\n",
              "      border-color: transparent;\n",
              "      border-right-color: var(--fill-color);\n",
              "      border-bottom-color: var(--fill-color);\n",
              "    }\n",
              "    90% {\n",
              "      border-color: transparent;\n",
              "      border-bottom-color: var(--fill-color);\n",
              "    }\n",
              "  }\n",
              "</style>\n",
              "\n",
              "  <script>\n",
              "    async function quickchart(key) {\n",
              "      const quickchartButtonEl =\n",
              "        document.querySelector('#' + key + ' button');\n",
              "      quickchartButtonEl.disabled = true;  // To prevent multiple clicks.\n",
              "      quickchartButtonEl.classList.add('colab-df-spinner');\n",
              "      try {\n",
              "        const charts = await google.colab.kernel.invokeFunction(\n",
              "            'suggestCharts', [key], {});\n",
              "      } catch (error) {\n",
              "        console.error('Error during call to suggestCharts:', error);\n",
              "      }\n",
              "      quickchartButtonEl.classList.remove('colab-df-spinner');\n",
              "      quickchartButtonEl.classList.add('colab-df-quickchart-complete');\n",
              "    }\n",
              "    (() => {\n",
              "      let quickchartButtonEl =\n",
              "        document.querySelector('#df-53255ae5-1404-400a-8120-ee7a8b9a1033 button');\n",
              "      quickchartButtonEl.style.display =\n",
              "        google.colab.kernel.accessAllowed ? 'block' : 'none';\n",
              "    })();\n",
              "  </script>\n",
              "</div>\n",
              "    </div>\n",
              "  </div>\n"
            ],
            "application/vnd.google.colaboratory.intrinsic+json": {
              "type": "dataframe",
              "variable_name": "df_adm",
              "summary": "{\n  \"name\": \"df_adm\",\n  \"rows\": 400,\n  \"fields\": [\n    {\n      \"column\": \"Serial No.\",\n      \"properties\": {\n        \"dtype\": \"number\",\n        \"std\": 115,\n        \"min\": 1,\n        \"max\": 400,\n        \"num_unique_values\": 400,\n        \"samples\": [\n          210,\n          281,\n          34\n        ],\n        \"semantic_type\": \"\",\n        \"description\": \"\"\n      }\n    },\n    {\n      \"column\": \"GRE Score\",\n      \"properties\": {\n        \"dtype\": \"number\",\n        \"std\": 11,\n        \"min\": 290,\n        \"max\": 340,\n        \"num_unique_values\": 49,\n        \"samples\": [\n          307,\n          335,\n          297\n        ],\n        \"semantic_type\": \"\",\n        \"description\": \"\"\n      }\n    },\n    {\n      \"column\": \"TOEFL Score\",\n      \"properties\": {\n        \"dtype\": \"number\",\n        \"std\": 6,\n        \"min\": 92,\n        \"max\": 120,\n        \"num_unique_values\": 29,\n        \"samples\": [\n          94,\n          119,\n          112\n        ],\n        \"semantic_type\": \"\",\n        \"description\": \"\"\n      }\n    },\n    {\n      \"column\": \"University Rating\",\n      \"properties\": {\n        \"dtype\": \"number\",\n        \"std\": 1,\n        \"min\": 1,\n        \"max\": 5,\n        \"num_unique_values\": 5,\n        \"samples\": [\n          3,\n          1,\n          2\n        ],\n        \"semantic_type\": \"\",\n        \"description\": \"\"\n      }\n    },\n    {\n      \"column\": \"SOP\",\n      \"properties\": {\n        \"dtype\": \"number\",\n        \"std\": 1.006868641458697,\n        \"min\": 1.0,\n        \"max\": 5.0,\n        \"num_unique_values\": 9,\n        \"samples\": [\n          1.0,\n          4.0,\n          5.0\n        ],\n        \"semantic_type\": \"\",\n        \"description\": \"\"\n      }\n    },\n    {\n      \"column\": \"LOR \",\n      \"properties\": {\n        \"dtype\": \"number\",\n        \"std\": 0.8984775482792571,\n        \"min\": 1.0,\n        \"max\": 5.0,\n        \"num_unique_values\": 9,\n        \"samples\": [\n          5.0,\n          3.5,\n          1.5\n        ],\n        \"semantic_type\": \"\",\n        \"description\": \"\"\n      }\n    },\n    {\n      \"column\": \"CGPA\",\n      \"properties\": {\n        \"dtype\": \"number\",\n        \"std\": 0.5963170964964318,\n        \"min\": 6.8,\n        \"max\": 9.92,\n        \"num_unique_values\": 168,\n        \"samples\": [\n          8.15,\n          7.4,\n          9.91\n        ],\n        \"semantic_type\": \"\",\n        \"description\": \"\"\n      }\n    },\n    {\n      \"column\": \"Research\",\n      \"properties\": {\n        \"dtype\": \"number\",\n        \"std\": 0,\n        \"min\": 0,\n        \"max\": 1,\n        \"num_unique_values\": 2,\n        \"samples\": [\n          0,\n          1\n        ],\n        \"semantic_type\": \"\",\n        \"description\": \"\"\n      }\n    },\n    {\n      \"column\": \"Chance of Admit \",\n      \"properties\": {\n        \"dtype\": \"number\",\n        \"std\": 0.14260933017384092,\n        \"min\": 0.34,\n        \"max\": 0.97,\n        \"num_unique_values\": 60,\n        \"samples\": [\n          0.92,\n          0.9\n        ],\n        \"semantic_type\": \"\",\n        \"description\": \"\"\n      }\n    }\n  ]\n}"
            }
          },
          "metadata": {},
          "execution_count": 188
        }
      ]
    },
    {
      "source": [
        "# @title GRE Score\n",
        "\n",
        "from matplotlib import pyplot as plt\n",
        "df_adm['GRE Score'].plot(kind='hist', bins=20, title='GRE Score')\n",
        "plt.gca().spines[['top', 'right',]].set_visible(False)"
      ],
      "cell_type": "code",
      "execution_count": 207,
      "outputs": [
        {
          "output_type": "display_data",
          "data": {
            "text/plain": [
              "<Figure size 640x480 with 1 Axes>"
            ],
            "image/png": "[encoded data removed]"
          },
          "metadata": {}
        }
      ],
      "metadata": {
        "colab": {
          "base_uri": "https://localhost:8080/",
          "height": 452
        },
        "id": "fZ1-FhEP8sDF",
        "outputId": "c0b88ab3-5b16-48fd-cb57-c0b22792b85c"
      }
    },
    {
      "cell_type": "code",
      "source": [
        "df_adm.describe()"
      ],
      "metadata": {
        "id": "upe3K0tXJW4s",
        "colab": {
          "base_uri": "https://localhost:8080/",
          "height": 300
        },
        "outputId": "403ac7f0-cf87-4be1-f72e-ca3e58a7d9cb"
      },
      "execution_count": 189,
      "outputs": [
        {
          "output_type": "execute_result",
          "data": {
            "text/plain": [
              "       Serial No.   GRE Score  TOEFL Score  University Rating         SOP  \\\n",
              "count  400.000000  400.000000   400.000000         400.000000  400.000000   \n",
              "mean   200.500000  316.807500   107.410000           3.087500    3.400000   \n",
              "std    115.614301   11.473646     6.069514           1.143728    1.006869   \n",
              "min      1.000000  290.000000    92.000000           1.000000    1.000000   \n",
              "25%    100.750000  308.000000   103.000000           2.000000    2.500000   \n",
              "50%    200.500000  317.000000   107.000000           3.000000    3.500000   \n",
              "75%    300.250000  325.000000   112.000000           4.000000    4.000000   \n",
              "max    400.000000  340.000000   120.000000           5.000000    5.000000   \n",
              "\n",
              "             LOR         CGPA    Research  Chance of Admit   \n",
              "count  400.000000  400.000000  400.000000        400.000000  \n",
              "mean     3.452500    8.598925    0.547500          0.724350  \n",
              "std      0.898478    0.596317    0.498362          0.142609  \n",
              "min      1.000000    6.800000    0.000000          0.340000  \n",
              "25%      3.000000    8.170000    0.000000          0.640000  \n",
              "50%      3.500000    8.610000    1.000000          0.730000  \n",
              "75%      4.000000    9.062500    1.000000          0.830000  \n",
              "max      5.000000    9.920000    1.000000          0.970000  "
            ],
            "text/html": [
              "\n",
              "  <div id=\"df-b8e5371d-1e82-481f-80d8-5a0715439e11\" class=\"colab-df-container\">\n",
              "    <div>\n",
              "<style scoped>\n",
              "    .dataframe tbody tr th:only-of-type {\n",
              "        vertical-align: middle;\n",
              "    }\n",
              "\n",
              "    .dataframe tbody tr th {\n",
              "        vertical-align: top;\n",
              "    }\n",
              "\n",
              "    .dataframe thead th {\n",
              "        text-align: right;\n",
              "    }\n",
              "</style>\n",
              "<table border=\"1\" class=\"dataframe\">\n",
              "  <thead>\n",
              "    <tr style=\"text-align: right;\">\n",
              "      <th></th>\n",
              "      <th>Serial No.</th>\n",
              "      <th>GRE Score</th>\n",
              "      <th>TOEFL Score</th>\n",
              "      <th>University Rating</th>\n",
              "      <th>SOP</th>\n",
              "      <th>LOR</th>\n",
              "      <th>CGPA</th>\n",
              "      <th>Research</th>\n",
              "      <th>Chance of Admit</th>\n",
              "    </tr>\n",
              "  </thead>\n",
              "  <tbody>\n",
              "    <tr>\n",
              "      <th>count</th>\n",
              "      <td>400.000000</td>\n",
              "      <td>400.000000</td>\n",
              "      <td>400.000000</td>\n",
              "      <td>400.000000</td>\n",
              "      <td>400.000000</td>\n",
              "      <td>400.000000</td>\n",
              "      <td>400.000000</td>\n",
              "      <td>400.000000</td>\n",
              "      <td>400.000000</td>\n",
              "    </tr>\n",
              "    <tr>\n",
              "      <th>mean</th>\n",
              "      <td>200.500000</td>\n",
              "      <td>316.807500</td>\n",
              "      <td>107.410000</td>\n",
              "      <td>3.087500</td>\n",
              "      <td>3.400000</td>\n",
              "      <td>3.452500</td>\n",
              "      <td>8.598925</td>\n",
              "      <td>0.547500</td>\n",
              "      <td>0.724350</td>\n",
              "    </tr>\n",
              "    <tr>\n",
              "      <th>std</th>\n",
              "      <td>115.614301</td>\n",
              "      <td>11.473646</td>\n",
              "      <td>6.069514</td>\n",
              "      <td>1.143728</td>\n",
              "      <td>1.006869</td>\n",
              "      <td>0.898478</td>\n",
              "      <td>0.596317</td>\n",
              "      <td>0.498362</td>\n",
              "      <td>0.142609</td>\n",
              "    </tr>\n",
              "    <tr>\n",
              "      <th>min</th>\n",
              "      <td>1.000000</td>\n",
              "      <td>290.000000</td>\n",
              "      <td>92.000000</td>\n",
              "      <td>1.000000</td>\n",
              "      <td>1.000000</td>\n",
              "      <td>1.000000</td>\n",
              "      <td>6.800000</td>\n",
              "      <td>0.000000</td>\n",
              "      <td>0.340000</td>\n",
              "    </tr>\n",
              "    <tr>\n",
              "      <th>25%</th>\n",
              "      <td>100.750000</td>\n",
              "      <td>308.000000</td>\n",
              "      <td>103.000000</td>\n",
              "      <td>2.000000</td>\n",
              "      <td>2.500000</td>\n",
              "      <td>3.000000</td>\n",
              "      <td>8.170000</td>\n",
              "      <td>0.000000</td>\n",
              "      <td>0.640000</td>\n",
              "    </tr>\n",
              "    <tr>\n",
              "      <th>50%</th>\n",
              "      <td>200.500000</td>\n",
              "      <td>317.000000</td>\n",
              "      <td>107.000000</td>\n",
              "      <td>3.000000</td>\n",
              "      <td>3.500000</td>\n",
              "      <td>3.500000</td>\n",
              "      <td>8.610000</td>\n",
              "      <td>1.000000</td>\n",
              "      <td>0.730000</td>\n",
              "    </tr>\n",
              "    <tr>\n",
              "      <th>75%</th>\n",
              "      <td>300.250000</td>\n",
              "      <td>325.000000</td>\n",
              "      <td>112.000000</td>\n",
              "      <td>4.000000</td>\n",
              "      <td>4.000000</td>\n",
              "      <td>4.000000</td>\n",
              "      <td>9.062500</td>\n",
              "      <td>1.000000</td>\n",
              "      <td>0.830000</td>\n",
              "    </tr>\n",
              "    <tr>\n",
              "      <th>max</th>\n",
              "      <td>400.000000</td>\n",
              "      <td>340.000000</td>\n",
              "      <td>120.000000</td>\n",
              "      <td>5.000000</td>\n",
              "      <td>5.000000</td>\n",
              "      <td>5.000000</td>\n",
              "      <td>9.920000</td>\n",
              "      <td>1.000000</td>\n",
              "      <td>0.970000</td>\n",
              "    </tr>\n",
              "  </tbody>\n",
              "</table>\n",
              "</div>\n",
              "    <div class=\"colab-df-buttons\">\n",
              "\n",
              "  <div class=\"colab-df-container\">\n",
              "    <button class=\"colab-df-convert\" onclick=\"convertToInteractive('df-b8e5371d-1e82-481f-80d8-5a0715439e11')\"\n",
              "            title=\"Convert this dataframe to an interactive table.\"\n",
              "            style=\"display:none;\">\n",
              "\n",
              "  <svg xmlns=\"http://www.w3.org/2000/svg\" height=\"24px\" viewBox=\"0 -960 960 960\">\n",
              "    <path d=\"M120-120v-720h720v720H120Zm60-500h600v-160H180v160Zm220 220h160v-160H400v160Zm0 220h160v-160H400v160ZM180-400h160v-160H180v160Zm440 0h160v-160H620v160ZM180-180h160v-160H180v160Zm440 0h160v-160H620v160Z\"/>\n",
              "  </svg>\n",
              "    </button>\n",
              "\n",
              "  <style>\n",
              "    .colab-df-container {\n",
              "      display:flex;\n",
              "      gap: 12px;\n",
              "    }\n",
              "\n",
              "    .colab-df-convert {\n",
              "      background-color: #E8F0FE;\n",
              "      border: none;\n",
              "      border-radius: 50%;\n",
              "      cursor: pointer;\n",
              "      display: none;\n",
              "      fill: #1967D2;\n",
              "      height: 32px;\n",
              "      padding: 0 0 0 0;\n",
              "      width: 32px;\n",
              "    }\n",
              "\n",
              "    .colab-df-convert:hover {\n",
              "      background-color: #E2EBFA;\n",
              "      box-shadow: 0px 1px 2px rgba(60, 64, 67, 0.3), 0px 1px 3px 1px rgba(60, 64, 67, 0.15);\n",
              "      fill: #174EA6;\n",
              "    }\n",
              "\n",
              "    .colab-df-buttons div {\n",
              "      margin-bottom: 4px;\n",
              "    }\n",
              "\n",
              "    [theme=dark] .colab-df-convert {\n",
              "      background-color: #3B4455;\n",
              "      fill: #D2E3FC;\n",
              "    }\n",
              "\n",
              "    [theme=dark] .colab-df-convert:hover {\n",
              "      background-color: #434B5C;\n",
              "      box-shadow: 0px 1px 3px 1px rgba(0, 0, 0, 0.15);\n",
              "      filter: drop-shadow(0px 1px 2px rgba(0, 0, 0, 0.3));\n",
              "      fill: #FFFFFF;\n",
              "    }\n",
              "  </style>\n",
              "\n",
              "    <script>\n",
              "      const buttonEl =\n",
              "        document.querySelector('#df-b8e5371d-1e82-481f-80d8-5a0715439e11 button.colab-df-convert');\n",
              "      buttonEl.style.display =\n",
              "        google.colab.kernel.accessAllowed ? 'block' : 'none';\n",
              "\n",
              "      async function convertToInteractive(key) {\n",
              "        const element = document.querySelector('#df-b8e5371d-1e82-481f-80d8-5a0715439e11');\n",
              "        const dataTable =\n",
              "          await google.colab.kernel.invokeFunction('convertToInteractive',\n",
              "                                                    [key], {});\n",
              "        if (!dataTable) return;\n",
              "\n",
              "        const docLinkHtml = 'Like what you see? Visit the ' +\n",
              "          '<a target=\"_blank\" href=https://colab.research.google.com/notebooks/data_table.ipynb>data table notebook</a>'\n",
              "          + ' to learn more about interactive tables.';\n",
              "        element.innerHTML = '';\n",
              "        dataTable['output_type'] = 'display_data';\n",
              "        await google.colab.output.renderOutput(dataTable, element);\n",
              "        const docLink = document.createElement('div');\n",
              "        docLink.innerHTML = docLinkHtml;\n",
              "        element.appendChild(docLink);\n",
              "      }\n",
              "    </script>\n",
              "  </div>\n",
              "\n",
              "\n",
              "<div id=\"df-3d0a5dca-eee8-4783-9672-142cb85f8528\">\n",
              "  <button class=\"colab-df-quickchart\" onclick=\"quickchart('df-3d0a5dca-eee8-4783-9672-142cb85f8528')\"\n",
              "            title=\"Suggest charts\"\n",
              "            style=\"display:none;\">\n",
              "\n",
              "<svg xmlns=\"http://www.w3.org/2000/svg\" height=\"24px\"viewBox=\"0 0 24 24\"\n",
              "     width=\"24px\">\n",
              "    <g>\n",
              "        <path d=\"M19 3H5c-1.1 0-2 .9-2 2v14c0 1.1.9 2 2 2h14c1.1 0 2-.9 2-2V5c0-1.1-.9-2-2-2zM9 17H7v-7h2v7zm4 0h-2V7h2v10zm4 0h-2v-4h2v4z\"/>\n",
              "    </g>\n",
              "</svg>\n",
              "  </button>\n",
              "\n",
              "<style>\n",
              "  .colab-df-quickchart {\n",
              "      --bg-color: #E8F0FE;\n",
              "      --fill-color: #1967D2;\n",
              "      --hover-bg-color: #E2EBFA;\n",
              "      --hover-fill-color: #174EA6;\n",
              "      --disabled-fill-color: #AAA;\n",
              "      --disabled-bg-color: #DDD;\n",
              "  }\n",
              "\n",
              "  [theme=dark] .colab-df-quickchart {\n",
              "      --bg-color: #3B4455;\n",
              "      --fill-color: #D2E3FC;\n",
              "      --hover-bg-color: #434B5C;\n",
              "      --hover-fill-color: #FFFFFF;\n",
              "      --disabled-bg-color: #3B4455;\n",
              "      --disabled-fill-color: #666;\n",
              "  }\n",
              "\n",
              "  .colab-df-quickchart {\n",
              "    background-color: var(--bg-color);\n",
              "    border: none;\n",
              "    border-radius: 50%;\n",
              "    cursor: pointer;\n",
              "    display: none;\n",
              "    fill: var(--fill-color);\n",
              "    height: 32px;\n",
              "    padding: 0;\n",
              "    width: 32px;\n",
              "  }\n",
              "\n",
              "  .colab-df-quickchart:hover {\n",
              "    background-color: var(--hover-bg-color);\n",
              "    box-shadow: 0 1px 2px rgba(60, 64, 67, 0.3), 0 1px 3px 1px rgba(60, 64, 67, 0.15);\n",
              "    fill: var(--button-hover-fill-color);\n",
              "  }\n",
              "\n",
              "  .colab-df-quickchart-complete:disabled,\n",
              "  .colab-df-quickchart-complete:disabled:hover {\n",
              "    background-color: var(--disabled-bg-color);\n",
              "    fill: var(--disabled-fill-color);\n",
              "    box-shadow: none;\n",
              "  }\n",
              "\n",
              "  .colab-df-spinner {\n",
              "    border: 2px solid var(--fill-color);\n",
              "    border-color: transparent;\n",
              "    border-bottom-color: var(--fill-color);\n",
              "    animation:\n",
              "      spin 1s steps(1) infinite;\n",
              "  }\n",
              "\n",
              "  @keyframes spin {\n",
              "    0% {\n",
              "      border-color: transparent;\n",
              "      border-bottom-color: var(--fill-color);\n",
              "      border-left-color: var(--fill-color);\n",
              "    }\n",
              "    20% {\n",
              "      border-color: transparent;\n",
              "      border-left-color: var(--fill-color);\n",
              "      border-top-color: var(--fill-color);\n",
              "    }\n",
              "    30% {\n",
              "      border-color: transparent;\n",
              "      border-left-color: var(--fill-color);\n",
              "      border-top-color: var(--fill-color);\n",
              "      border-right-color: var(--fill-color);\n",
              "    }\n",
              "    40% {\n",
              "      border-color: transparent;\n",
              "      border-right-color: var(--fill-color);\n",
              "      border-top-color: var(--fill-color);\n",
              "    }\n",
              "    60% {\n",
              "      border-color: transparent;\n",
              "      border-right-color: var(--fill-color);\n",
              "    }\n",
              "    80% {\n",
              "      border-color: transparent;\n",
              "      border-right-color: var(--fill-color);\n",
              "      border-bottom-color: var(--fill-color);\n",
              "    }\n",
              "    90% {\n",
              "      border-color: transparent;\n",
              "      border-bottom-color: var(--fill-color);\n",
              "    }\n",
              "  }\n",
              "</style>\n",
              "\n",
              "  <script>\n",
              "    async function quickchart(key) {\n",
              "      const quickchartButtonEl =\n",
              "        document.querySelector('#' + key + ' button');\n",
              "      quickchartButtonEl.disabled = true;  // To prevent multiple clicks.\n",
              "      quickchartButtonEl.classList.add('colab-df-spinner');\n",
              "      try {\n",
              "        const charts = await google.colab.kernel.invokeFunction(\n",
              "            'suggestCharts', [key], {});\n",
              "      } catch (error) {\n",
              "        console.error('Error during call to suggestCharts:', error);\n",
              "      }\n",
              "      quickchartButtonEl.classList.remove('colab-df-spinner');\n",
              "      quickchartButtonEl.classList.add('colab-df-quickchart-complete');\n",
              "    }\n",
              "    (() => {\n",
              "      let quickchartButtonEl =\n",
              "        document.querySelector('#df-3d0a5dca-eee8-4783-9672-142cb85f8528 button');\n",
              "      quickchartButtonEl.style.display =\n",
              "        google.colab.kernel.accessAllowed ? 'block' : 'none';\n",
              "    })();\n",
              "  </script>\n",
              "</div>\n",
              "    </div>\n",
              "  </div>\n"
            ],
            "application/vnd.google.colaboratory.intrinsic+json": {
              "type": "dataframe",
              "summary": "{\n  \"name\": \"df_adm\",\n  \"rows\": 8,\n  \"fields\": [\n    {\n      \"column\": \"Serial No.\",\n      \"properties\": {\n        \"dtype\": \"number\",\n        \"std\": 143.85727156983504,\n        \"min\": 1.0,\n        \"max\": 400.0,\n        \"num_unique_values\": 6,\n        \"samples\": [\n          400.0,\n          200.5,\n          300.25\n        ],\n        \"semantic_type\": \"\",\n        \"description\": \"\"\n      }\n    },\n    {\n      \"column\": \"GRE Score\",\n      \"properties\": {\n        \"dtype\": \"number\",\n        \"std\": 116.59233338156497,\n        \"min\": 11.473646113500475,\n        \"max\": 400.0,\n        \"num_unique_values\": 8,\n        \"samples\": [\n          316.8075,\n          317.0,\n          400.0\n        ],\n        \"semantic_type\": \"\",\n        \"description\": \"\"\n      }\n    },\n    {\n      \"column\": \"TOEFL Score\",\n      \"properties\": {\n        \"dtype\": \"number\",\n        \"std\": 114.57254758734635,\n        \"min\": 6.069513777374126,\n        \"max\": 400.0,\n        \"num_unique_values\": 8,\n        \"samples\": [\n          107.41,\n          107.0,\n          400.0\n        ],\n        \"semantic_type\": \"\",\n        \"description\": \"\"\n      }\n    },\n    {\n      \"column\": \"University Rating\",\n      \"properties\": {\n        \"dtype\": \"number\",\n        \"std\": 140.45664706865134,\n        \"min\": 1.0,\n        \"max\": 400.0,\n        \"num_unique_values\": 8,\n        \"samples\": [\n          3.0875,\n          3.0,\n          400.0\n        ],\n        \"semantic_type\": \"\",\n        \"description\": \"\"\n      }\n    },\n    {\n      \"column\": \"SOP\",\n      \"properties\": {\n        \"dtype\": \"number\",\n        \"std\": 140.39756402259295,\n        \"min\": 1.0,\n        \"max\": 400.0,\n        \"num_unique_values\": 8,\n        \"samples\": [\n          3.4,\n          3.5,\n          400.0\n        ],\n        \"semantic_type\": \"\",\n        \"description\": \"\"\n      }\n    },\n    {\n      \"column\": \"LOR \",\n      \"properties\": {\n        \"dtype\": \"number\",\n        \"std\": 140.37527959785763,\n        \"min\": 0.8984775482792571,\n        \"max\": 400.0,\n        \"num_unique_values\": 8,\n        \"samples\": [\n          3.4525,\n          3.5,\n          400.0\n        ],\n        \"semantic_type\": \"\",\n        \"description\": \"\"\n      }\n    },\n    {\n      \"column\": \"CGPA\",\n      \"properties\": {\n        \"dtype\": \"number\",\n        \"std\": 138.83768591852123,\n        \"min\": 0.5963170964964318,\n        \"max\": 400.0,\n        \"num_unique_values\": 8,\n        \"samples\": [\n          8.598925,\n          8.61,\n          400.0\n        ],\n        \"semantic_type\": \"\",\n        \"description\": \"\"\n      }\n    },\n    {\n      \"column\": \"Research\",\n      \"properties\": {\n        \"dtype\": \"number\",\n        \"std\": 141.2176212184402,\n        \"min\": 0.0,\n        \"max\": 400.0,\n        \"num_unique_values\": 5,\n        \"samples\": [\n          0.5475,\n          1.0,\n          0.4983619785398314\n        ],\n        \"semantic_type\": \"\",\n        \"description\": \"\"\n      }\n    },\n    {\n      \"column\": \"Chance of Admit \",\n      \"properties\": {\n        \"dtype\": \"number\",\n        \"std\": 141.2005373652785,\n        \"min\": 0.14260933017384092,\n        \"max\": 400.0,\n        \"num_unique_values\": 8,\n        \"samples\": [\n          0.72435,\n          0.73,\n          400.0\n        ],\n        \"semantic_type\": \"\",\n        \"description\": \"\"\n      }\n    }\n  ]\n}"
            }
          },
          "metadata": {},
          "execution_count": 189
        }
      ]
    },
    {
      "cell_type": "code",
      "source": [
        "df_adm.info()"
      ],
      "metadata": {
        "id": "TWCncvm0JicD",
        "colab": {
          "base_uri": "https://localhost:8080/"
        },
        "outputId": "38b05757-96f5-48de-bde0-3a21379db142"
      },
      "execution_count": 191,
      "outputs": [
        {
          "output_type": "stream",
          "name": "stdout",
          "text": [
            "<class 'pandas.core.frame.DataFrame'>\n",
            "RangeIndex: 400 entries, 0 to 399\n",
            "Data columns (total 9 columns):\n",
            " #   Column             Non-Null Count  Dtype  \n",
            "---  ------             --------------  -----  \n",
            " 0   Serial No.         400 non-null    int64  \n",
            " 1   GRE Score          400 non-null    int64  \n",
            " 2   TOEFL Score        400 non-null    int64  \n",
            " 3   University Rating  400 non-null    int64  \n",
            " 4   SOP                400 non-null    float64\n",
            " 5   LOR                400 non-null    float64\n",
            " 6   CGPA               400 non-null    float64\n",
            " 7   Research           400 non-null    int64  \n",
            " 8   Chance of Admit    400 non-null    float64\n",
            "dtypes: float64(4), int64(5)\n",
            "memory usage: 28.2 KB\n"
          ]
        }
      ]
    },
    {
      "cell_type": "code",
      "source": [
        "## Split the dataset and fetch the independent variables into X\n",
        "X = df_adm.iloc[:, 1:-1].values\n",
        "print(X)"
      ],
      "metadata": {
        "id": "eNJ6wPDXSIGv",
        "colab": {
          "base_uri": "https://localhost:8080/"
        },
        "outputId": "7efed948-2b70-4025-fd91-a5edb51a6aa6"
      },
      "execution_count": 192,
      "outputs": [
        {
          "output_type": "stream",
          "name": "stdout",
          "text": [
            "[[337.   118.     4.   ...   4.5    9.65   1.  ]\n",
            " [324.   107.     4.   ...   4.5    8.87   1.  ]\n",
            " [316.   104.     3.   ...   3.5    8.     1.  ]\n",
            " ...\n",
            " [330.   116.     4.   ...   4.5    9.45   1.  ]\n",
            " [312.   103.     3.   ...   4.     8.78   0.  ]\n",
            " [333.   117.     4.   ...   4.     9.66   1.  ]]\n"
          ]
        }
      ]
    },
    {
      "cell_type": "code",
      "source": [],
      "metadata": {
        "id": "kZlEBvaEURqF",
        "colab": {
          "base_uri": "https://localhost:8080/"
        },
        "outputId": "6f8322aa-883e-401d-bc1a-b34965c46914"
      },
      "execution_count": 193,
      "outputs": [
        {
          "output_type": "stream",
          "name": "stdout",
          "text": [
            "[0.92 0.76 0.72 0.8  0.65 0.9  0.75 0.68 0.5  0.45 0.52 0.84 0.78 0.62\n",
            " 0.61 0.54 0.66 0.65 0.63 0.62 0.64 0.7  0.94 0.95 0.97 0.94 0.76 0.44\n",
            " 0.46 0.54 0.65 0.74 0.91 0.9  0.94 0.88 0.64 0.58 0.52 0.48 0.46 0.49\n",
            " 0.53 0.87 0.91 0.88 0.86 0.89 0.82 0.78 0.76 0.56 0.78 0.72 0.7  0.64\n",
            " 0.64 0.46 0.36 0.42 0.48 0.47 0.54 0.56 0.52 0.55 0.61 0.57 0.68 0.78\n",
            " 0.94 0.96 0.93 0.84 0.74 0.72 0.74 0.64 0.44 0.46 0.5  0.96 0.92 0.92\n",
            " 0.94 0.76 0.72 0.66 0.64 0.74 0.64 0.38 0.34 0.44 0.36 0.42 0.48 0.86\n",
            " 0.9  0.79 0.71 0.64 0.62 0.57 0.74 0.69 0.87 0.91 0.93 0.68 0.61 0.69\n",
            " 0.62 0.72 0.59 0.66 0.56 0.45 0.47 0.71 0.94 0.94 0.57 0.61 0.57 0.64\n",
            " 0.85 0.78 0.84 0.92 0.96 0.77 0.71 0.79 0.89 0.82 0.76 0.71 0.8  0.78\n",
            " 0.84 0.9  0.92 0.97 0.8  0.81 0.75 0.83 0.96 0.79 0.93 0.94 0.86 0.79\n",
            " 0.8  0.77 0.7  0.65 0.61 0.52 0.57 0.53 0.67 0.68 0.81 0.78 0.65 0.64\n",
            " 0.64 0.65 0.68 0.89 0.86 0.89 0.87 0.85 0.9  0.82 0.72 0.73 0.71 0.71\n",
            " 0.68 0.75 0.72 0.89 0.84 0.93 0.93 0.88 0.9  0.87 0.86 0.94 0.77 0.78\n",
            " 0.73 0.73 0.7  0.72 0.73 0.72 0.97 0.97 0.69 0.57 0.63 0.66 0.64 0.68\n",
            " 0.79 0.82 0.95 0.96 0.94 0.93 0.91 0.85 0.84 0.74 0.76 0.75 0.76 0.71\n",
            " 0.67 0.61 0.63 0.64 0.71 0.82 0.73 0.74 0.69 0.64 0.91 0.88 0.85 0.86\n",
            " 0.7  0.59 0.6  0.65 0.7  0.76 0.63 0.81 0.72 0.71 0.8  0.77 0.74 0.7\n",
            " 0.71 0.93 0.85 0.79 0.76 0.78 0.77 0.9  0.87 0.71 0.7  0.7  0.75 0.71\n",
            " 0.72 0.73 0.83 0.77 0.72 0.54 0.49 0.52 0.58 0.78 0.89 0.7  0.66 0.67\n",
            " 0.68 0.8  0.81 0.8  0.94 0.93 0.92 0.89 0.82 0.79 0.58 0.56 0.56 0.64\n",
            " 0.61 0.68 0.76 0.86 0.9  0.71 0.62 0.66 0.65 0.73 0.62 0.74 0.79 0.8\n",
            " 0.69 0.7  0.76 0.84 0.78 0.67 0.66 0.65 0.54 0.58 0.79 0.8  0.75 0.73\n",
            " 0.72 0.62 0.67 0.81 0.63 0.69 0.8  0.43 0.8  0.73 0.75 0.71 0.73 0.83\n",
            " 0.72 0.94 0.81 0.81 0.75 0.79 0.58 0.59 0.47 0.49 0.47 0.42 0.57 0.62\n",
            " 0.74 0.73 0.64 0.63 0.59 0.73 0.79 0.68 0.7  0.81 0.85 0.93 0.91 0.69\n",
            " 0.77 0.86 0.74 0.57 0.51 0.67 0.72 0.89 0.95 0.79 0.39 0.38 0.34 0.47\n",
            " 0.56 0.71 0.78 0.73 0.82 0.62 0.96 0.96 0.46 0.53 0.49 0.76 0.64 0.71\n",
            " 0.84 0.77 0.89 0.82 0.84 0.91 0.67 0.95]\n"
          ]
        }
      ]
    },
    {
      "cell_type": "code",
      "source": [
        "#Split the dataset into training and test sets\n",
        "#Using scikit learn library , import the train test\n",
        "from sklearn.model_selection import train_test_split\n",
        "X_train, X_test,y_train,y_test = train_test_split(X,y, test_size=0.2, random_state=0)"
      ],
      "metadata": {
        "id": "yEOgRz6jbwV-"
      },
      "execution_count": 194,
      "outputs": []
    },
    {
      "cell_type": "code",
      "source": [
        "print(X_test)"
      ],
      "metadata": {
        "colab": {
          "base_uri": "https://localhost:8080/"
        },
        "id": "kbQiG6SznWU5",
        "outputId": "fb2a4911-1728-4fd9-efe4-526f9f26bff8"
      },
      "execution_count": 195,
      "outputs": [
        {
          "output_type": "stream",
          "name": "stdout",
          "text": [
            "[[309.   105.     5.     3.5    3.5    8.56   0.  ]\n",
            " [308.   110.     4.     3.5    3.     8.6    0.  ]\n",
            " [326.   110.     3.     3.5    3.5    8.76   1.  ]\n",
            " [306.   105.     2.     3.     2.5    8.26   0.  ]\n",
            " [316.   105.     3.     3.     3.5    8.73   0.  ]\n",
            " [309.   100.     2.     3.     3.     8.1    0.  ]\n",
            " [312.   109.     3.     3.     3.     8.69   0.  ]\n",
            " [312.   104.     3.     3.5    4.     8.09   0.  ]\n",
            " [332.   118.     2.     4.5    3.5    9.36   1.  ]\n",
            " [331.   117.     4.     4.5    5.     9.42   1.  ]\n",
            " [300.   105.     1.     1.     2.     7.8    0.  ]\n",
            " [333.   113.     5.     4.     4.     9.28   1.  ]\n",
            " [320.   110.     2.     4.     3.5    8.56   0.  ]\n",
            " [302.    99.     1.     2.     2.     7.25   0.  ]\n",
            " [328.   112.     4.     4.     4.5    9.1    1.  ]\n",
            " [311.   104.     2.     2.     2.     8.3    0.  ]\n",
            " [312.    98.     1.     3.5    3.     8.18   1.  ]\n",
            " [329.   110.     2.     4.     3.     9.15   1.  ]\n",
            " [315.    99.     2.     3.5    3.     7.89   0.  ]\n",
            " [313.   107.     3.     4.     4.5    8.69   0.  ]\n",
            " [329.   119.     4.     4.5    4.5    9.16   1.  ]\n",
            " [327.   113.     4.     4.5    5.     9.14   0.  ]\n",
            " [301.   106.     4.     2.5    3.     8.47   0.  ]\n",
            " [295.    96.     2.     1.5    2.     7.34   0.  ]\n",
            " [320.   111.     4.     4.5    3.5    8.87   1.  ]\n",
            " [301.   100.     3.     3.5    3.     8.04   0.  ]\n",
            " [296.    95.     2.     3.     2.     7.54   1.  ]\n",
            " [314.   105.     3.     3.5    2.5    8.3    0.  ]\n",
            " [336.   118.     5.     4.5    4.     9.19   1.  ]\n",
            " [314.   106.     2.     4.     3.5    8.25   0.  ]\n",
            " [312.   101.     2.     2.5    3.5    8.04   1.  ]\n",
            " [323.   107.     3.     3.5    3.5    8.55   1.  ]\n",
            " [312.   107.     4.     4.5    4.     8.65   1.  ]\n",
            " [296.    99.     2.     2.5    2.5    8.03   0.  ]\n",
            " [325.   112.     4.     3.5    3.5    8.92   0.  ]\n",
            " [327.   112.     3.     3.     3.     8.72   1.  ]\n",
            " [318.   106.     2.     4.     4.     7.92   1.  ]\n",
            " [323.   113.     4.     4.     4.5    9.23   1.  ]\n",
            " [307.   102.     3.     3.     3.     8.27   0.  ]\n",
            " [333.   117.     4.     5.     4.     9.66   1.  ]\n",
            " [322.   107.     3.     3.5    3.5    8.46   1.  ]\n",
            " [314.   107.     2.     2.5    4.     8.27   0.  ]\n",
            " [321.   109.     3.     3.     4.     8.2    1.  ]\n",
            " [324.   107.     4.     4.     4.5    8.87   1.  ]\n",
            " [320.   120.     3.     4.     4.5    9.11   0.  ]\n",
            " [322.   110.     3.     3.     3.5    8.     0.  ]\n",
            " [315.   105.     2.     2.     2.5    7.65   0.  ]\n",
            " [307.   110.     4.     4.     4.5    8.37   0.  ]\n",
            " [306.   106.     2.     2.     2.5    8.14   0.  ]\n",
            " [304.   100.     2.     2.5    3.5    8.07   0.  ]\n",
            " [311.   104.     2.     2.5    3.5    8.48   0.  ]\n",
            " [325.   112.     2.     3.     3.5    8.96   1.  ]\n",
            " [316.   101.     2.     2.5    2.     8.32   1.  ]\n",
            " [334.   117.     5.     4.     4.5    9.07   1.  ]\n",
            " [311.   102.     3.     4.5    4.     8.64   1.  ]\n",
            " [324.   111.     3.     2.5    2.     8.8    1.  ]\n",
            " [334.   116.     4.     4.     3.     8.     1.  ]\n",
            " [325.   106.     3.     3.5    4.     8.4    1.  ]\n",
            " [322.   109.     5.     4.5    3.5    8.8    0.  ]\n",
            " [322.   110.     5.     5.     4.     9.1    1.  ]\n",
            " [314.   106.     3.     3.     5.     8.9    0.  ]\n",
            " [294.    95.     1.     1.5    1.5    7.64   0.  ]\n",
            " [314.   103.     2.     2.     3.     8.21   0.  ]\n",
            " [297.    98.     2.     2.5    3.     7.67   0.  ]\n",
            " [323.   110.     5.     4.     5.     8.98   1.  ]\n",
            " [324.   110.     3.     3.5    3.     9.22   1.  ]\n",
            " [320.   113.     2.     2.     2.5    8.64   1.  ]\n",
            " [330.   115.     5.     4.5    3.     9.34   1.  ]\n",
            " [326.   108.     3.     3.     3.5    8.89   0.  ]\n",
            " [320.   104.     3.     3.     3.5    8.74   1.  ]\n",
            " [308.   101.     2.     3.     4.     7.9    0.  ]\n",
            " [327.   108.     5.     5.     3.5    9.13   1.  ]\n",
            " [318.   109.     3.     3.5    4.     9.22   1.  ]\n",
            " [312.   107.     3.     3.     2.     7.9    1.  ]\n",
            " [338.   117.     4.     3.5    4.5    9.46   1.  ]\n",
            " [311.   104.     3.     3.5    2.     8.2    1.  ]\n",
            " [306.   103.     2.     2.5    3.     8.36   0.  ]\n",
            " [313.   106.     2.     2.5    2.     8.43   0.  ]\n",
            " [334.   116.     4.     4.     3.5    9.54   1.  ]\n",
            " [297.    96.     2.     2.5    1.5    7.89   0.  ]]\n"
          ]
        }
      ]
    },
    {
      "cell_type": "markdown",
      "source": [
        "### **Multiple Linear Regression**"
      ],
      "metadata": {
        "id": "tlkgMG7ZdWOE"
      }
    },
    {
      "cell_type": "code",
      "source": [
        "#Import the linearregression object and create an instance of the object\n",
        "#Train the multiple linear regression on the training set\n",
        "from sklearn.linear_model import LinearRegression\n",
        "regressor = LinearRegression()\n",
        "regressor.fit(X_train,y_train)"
      ],
      "metadata": {
        "id": "uOZn5eAjb_2r",
        "colab": {
          "base_uri": "https://localhost:8080/",
          "height": 75
        },
        "outputId": "704af966-2b99-4541-d301-c38d55985e03"
      },
      "execution_count": 196,
      "outputs": [
        {
          "output_type": "execute_result",
          "data": {
            "text/plain": [
              "LinearRegression()"
            ],
            "text/html": [
              "<style>#sk-container-id-11 {color: black;background-color: white;}#sk-container-id-11 pre{padding: 0;}#sk-container-id-11 div.sk-toggleable {background-color: white;}#sk-container-id-11 label.sk-toggleable__label {cursor: pointer;display: block;width: 100%;margin-bottom: 0;padding: 0.3em;box-sizing: border-box;text-align: center;}#sk-container-id-11 label.sk-toggleable__label-arrow:before {content: \"▸\";float: left;margin-right: 0.25em;color: #696969;}#sk-container-id-11 label.sk-toggleable__label-arrow:hover:before {color: black;}#sk-container-id-11 div.sk-estimator:hover label.sk-toggleable__label-arrow:before {color: black;}#sk-container-id-11 div.sk-toggleable__content {max-height: 0;max-width: 0;overflow: hidden;text-align: left;background-color: #f0f8ff;}#sk-container-id-11 div.sk-toggleable__content pre {margin: 0.2em;color: black;border-radius: 0.25em;background-color: #f0f8ff;}#sk-container-id-11 input.sk-toggleable__control:checked~div.sk-toggleable__content {max-height: 200px;max-width: 100%;overflow: auto;}#sk-container-id-11 input.sk-toggleable__control:checked~label.sk-toggleable__label-arrow:before {content: \"▾\";}#sk-container-id-11 div.sk-estimator input.sk-toggleable__control:checked~label.sk-toggleable__label {background-color: #d4ebff;}#sk-container-id-11 div.sk-label input.sk-toggleable__control:checked~label.sk-toggleable__label {background-color: #d4ebff;}#sk-container-id-11 input.sk-hidden--visually {border: 0;clip: rect(1px 1px 1px 1px);clip: rect(1px, 1px, 1px, 1px);height: 1px;margin: -1px;overflow: hidden;padding: 0;position: absolute;width: 1px;}#sk-container-id-11 div.sk-estimator {font-family: monospace;background-color: #f0f8ff;border: 1px dotted black;border-radius: 0.25em;box-sizing: border-box;margin-bottom: 0.5em;}#sk-container-id-11 div.sk-estimator:hover {background-color: #d4ebff;}#sk-container-id-11 div.sk-parallel-item::after {content: \"\";width: 100%;border-bottom: 1px solid gray;flex-grow: 1;}#sk-container-id-11 div.sk-label:hover label.sk-toggleable__label {background-color: #d4ebff;}#sk-container-id-11 div.sk-serial::before {content: \"\";position: absolute;border-left: 1px solid gray;box-sizing: border-box;top: 0;bottom: 0;left: 50%;z-index: 0;}#sk-container-id-11 div.sk-serial {display: flex;flex-direction: column;align-items: center;background-color: white;padding-right: 0.2em;padding-left: 0.2em;position: relative;}#sk-container-id-11 div.sk-item {position: relative;z-index: 1;}#sk-container-id-11 div.sk-parallel {display: flex;align-items: stretch;justify-content: center;background-color: white;position: relative;}#sk-container-id-11 div.sk-item::before, #sk-container-id-11 div.sk-parallel-item::before {content: \"\";position: absolute;border-left: 1px solid gray;box-sizing: border-box;top: 0;bottom: 0;left: 50%;z-index: -1;}#sk-container-id-11 div.sk-parallel-item {display: flex;flex-direction: column;z-index: 1;position: relative;background-color: white;}#sk-container-id-11 div.sk-parallel-item:first-child::after {align-self: flex-end;width: 50%;}#sk-container-id-11 div.sk-parallel-item:last-child::after {align-self: flex-start;width: 50%;}#sk-container-id-11 div.sk-parallel-item:only-child::after {width: 0;}#sk-container-id-11 div.sk-dashed-wrapped {border: 1px dashed gray;margin: 0 0.4em 0.5em 0.4em;box-sizing: border-box;padding-bottom: 0.4em;background-color: white;}#sk-container-id-11 div.sk-label label {font-family: monospace;font-weight: bold;display: inline-block;line-height: 1.2em;}#sk-container-id-11 div.sk-label-container {text-align: center;}#sk-container-id-11 div.sk-container {/* jupyter's `normalize.less` sets `[hidden] { display: none; }` but bootstrap.min.css set `[hidden] { display: none !important; }` so we also need the `!important` here to be able to override the default hidden behavior on the sphinx rendered scikit-learn.org. See: https://github.com/scikit-learn/scikit-learn/issues/21755 */display: inline-block !important;position: relative;}#sk-container-id-11 div.sk-text-repr-fallback {display: none;}</style><div id=\"sk-container-id-11\" class=\"sk-top-container\"><div class=\"sk-text-repr-fallback\"><pre>LinearRegression()</pre><b>In a Jupyter environment, please rerun this cell to show the HTML representation or trust the notebook. <br />On GitHub, the HTML representation is unable to render, please try loading this page with nbviewer.org.</b></div><div class=\"sk-container\" hidden><div class=\"sk-item\"><div class=\"sk-estimator sk-toggleable\"><input class=\"sk-toggleable__control sk-hidden--visually\" id=\"sk-estimator-id-11\" type=\"checkbox\" checked><label for=\"sk-estimator-id-11\" class=\"sk-toggleable__label sk-toggleable__label-arrow\">LinearRegression</label><div class=\"sk-toggleable__content\"><pre>LinearRegression()</pre></div></div></div></div></div>"
            ]
          },
          "metadata": {},
          "execution_count": 196
        }
      ]
    },
    {
      "cell_type": "markdown",
      "source": [
        "##Predictor for Linear Regression"
      ],
      "metadata": {
        "id": "zNmx3L3Ti-fV"
      }
    },
    {
      "cell_type": "code",
      "source": [
        "y_pred = regressor.predict(X_test)"
      ],
      "metadata": {
        "id": "Yrg-DnyRdYDb"
      },
      "execution_count": 197,
      "outputs": []
    },
    {
      "cell_type": "code",
      "source": [
        "print(y_pred)"
      ],
      "metadata": {
        "id": "3RnhRhK6fd_a",
        "colab": {
          "base_uri": "https://localhost:8080/"
        },
        "outputId": "43cb26d1-7870-4d6b-b0d2-bd2048fc07c7"
      },
      "execution_count": 198,
      "outputs": [
        {
          "output_type": "stream",
          "name": "stdout",
          "text": [
            "[0.7  0.69 0.78 0.62 0.72 0.6  0.71 0.64 0.87 0.92 0.54 0.89 0.71 0.46\n",
            " 0.85 0.62 0.63 0.81 0.58 0.73 0.88 0.84 0.66 0.46 0.78 0.58 0.5  0.64\n",
            " 0.89 0.65 0.64 0.74 0.74 0.56 0.78 0.77 0.65 0.86 0.63 0.93 0.73 0.67\n",
            " 0.71 0.81 0.82 0.65 0.56 0.69 0.61 0.6  0.68 0.8  0.65 0.88 0.72 0.75\n",
            " 0.71 0.73 0.76 0.83 0.77 0.47 0.64 0.52 0.84 0.82 0.74 0.87 0.77 0.75\n",
            " 0.6  0.83 0.83 0.61 0.93 0.63 0.64 0.65 0.91 0.51]\n"
          ]
        }
      ]
    },
    {
      "cell_type": "code",
      "source": [
        "print(y_test)"
      ],
      "metadata": {
        "id": "AJgaZvC1hu5K",
        "colab": {
          "base_uri": "https://localhost:8080/"
        },
        "outputId": "fb377191-576f-495b-c834-1c92ec971d5d"
      },
      "execution_count": 199,
      "outputs": [
        {
          "output_type": "stream",
          "name": "stdout",
          "text": [
            "[0.71 0.7  0.79 0.73 0.72 0.48 0.77 0.71 0.9  0.94 0.58 0.89 0.72 0.57\n",
            " 0.78 0.42 0.64 0.84 0.63 0.72 0.9  0.83 0.57 0.47 0.85 0.67 0.44 0.54\n",
            " 0.92 0.62 0.68 0.73 0.73 0.61 0.55 0.74 0.64 0.89 0.73 0.95 0.71 0.72\n",
            " 0.75 0.76 0.86 0.7  0.39 0.79 0.61 0.64 0.71 0.8  0.61 0.89 0.68 0.79\n",
            " 0.78 0.52 0.76 0.88 0.74 0.49 0.65 0.59 0.87 0.89 0.81 0.9  0.8  0.76\n",
            " 0.68 0.87 0.68 0.64 0.91 0.61 0.69 0.62 0.93 0.43]\n"
          ]
        }
      ]
    },
    {
      "cell_type": "code",
      "source": [
        "# Comparing the results of the predicted chance of admit with the actual(real) chance of admit test set\n",
        "# Set to display only in two decimal places\n",
        "np.set_printoptions(precision=2)\n",
        "print(np.concatenate((y_pred.reshape(len(y_pred),1) , y_test.reshape(len(y_test),1)),1))"
      ],
      "metadata": {
        "id": "Y84GtddAflrP",
        "colab": {
          "base_uri": "https://localhost:8080/"
        },
        "outputId": "e55abcf4-5f61-4da4-cfd1-cd0a17dbaf48"
      },
      "execution_count": 201,
      "outputs": [
        {
          "output_type": "stream",
          "name": "stdout",
          "text": [
            "[[0.7  0.71]\n",
            " [0.69 0.7 ]\n",
            " [0.78 0.79]\n",
            " [0.62 0.73]\n",
            " [0.72 0.72]\n",
            " [0.6  0.48]\n",
            " [0.71 0.77]\n",
            " [0.64 0.71]\n",
            " [0.87 0.9 ]\n",
            " [0.92 0.94]\n",
            " [0.54 0.58]\n",
            " [0.89 0.89]\n",
            " [0.71 0.72]\n",
            " [0.46 0.57]\n",
            " [0.85 0.78]\n",
            " [0.62 0.42]\n",
            " [0.63 0.64]\n",
            " [0.81 0.84]\n",
            " [0.58 0.63]\n",
            " [0.73 0.72]\n",
            " [0.88 0.9 ]\n",
            " [0.84 0.83]\n",
            " [0.66 0.57]\n",
            " [0.46 0.47]\n",
            " [0.78 0.85]\n",
            " [0.58 0.67]\n",
            " [0.5  0.44]\n",
            " [0.64 0.54]\n",
            " [0.89 0.92]\n",
            " [0.65 0.62]\n",
            " [0.64 0.68]\n",
            " [0.74 0.73]\n",
            " [0.74 0.73]\n",
            " [0.56 0.61]\n",
            " [0.78 0.55]\n",
            " [0.77 0.74]\n",
            " [0.65 0.64]\n",
            " [0.86 0.89]\n",
            " [0.63 0.73]\n",
            " [0.93 0.95]\n",
            " [0.73 0.71]\n",
            " [0.67 0.72]\n",
            " [0.71 0.75]\n",
            " [0.81 0.76]\n",
            " [0.82 0.86]\n",
            " [0.65 0.7 ]\n",
            " [0.56 0.39]\n",
            " [0.69 0.79]\n",
            " [0.61 0.61]\n",
            " [0.6  0.64]\n",
            " [0.68 0.71]\n",
            " [0.8  0.8 ]\n",
            " [0.65 0.61]\n",
            " [0.88 0.89]\n",
            " [0.72 0.68]\n",
            " [0.75 0.79]\n",
            " [0.71 0.78]\n",
            " [0.73 0.52]\n",
            " [0.76 0.76]\n",
            " [0.83 0.88]\n",
            " [0.77 0.74]\n",
            " [0.47 0.49]\n",
            " [0.64 0.65]\n",
            " [0.52 0.59]\n",
            " [0.84 0.87]\n",
            " [0.82 0.89]\n",
            " [0.74 0.81]\n",
            " [0.87 0.9 ]\n",
            " [0.77 0.8 ]\n",
            " [0.75 0.76]\n",
            " [0.6  0.68]\n",
            " [0.83 0.87]\n",
            " [0.83 0.68]\n",
            " [0.61 0.64]\n",
            " [0.93 0.91]\n",
            " [0.63 0.61]\n",
            " [0.64 0.69]\n",
            " [0.65 0.62]\n",
            " [0.91 0.93]\n",
            " [0.51 0.43]]\n"
          ]
        }
      ]
    },
    {
      "cell_type": "markdown",
      "source": [
        "##Accuracy Score"
      ],
      "metadata": {
        "id": "W_VVIkWitRys"
      }
    },
    {
      "cell_type": "code",
      "source": [
        "from sklearn.metrics import r2_score\n",
        "r2_score(y_pred,y_test)"
      ],
      "metadata": {
        "colab": {
          "base_uri": "https://localhost:8080/"
        },
        "id": "zra7jfnqf5aB",
        "outputId": "8084dae5-d0a7-4a46-de49-a2760e8c6570"
      },
      "execution_count": 202,
      "outputs": [
        {
          "output_type": "execute_result",
          "data": {
            "text/plain": [
              "0.6537876123347577"
            ]
          },
          "metadata": {},
          "execution_count": 202
        }
      ]
    },
    {
      "cell_type": "markdown",
      "source": [
        "## Polynomial Regression"
      ],
      "metadata": {
        "id": "pMRatqtjgsHW"
      }
    },
    {
      "cell_type": "code",
      "source": [
        "#convert the matrix of features of X to a polynomial matrix\n",
        "from sklearn.preprocessing import PolynomialFeatures\n",
        "pol_reg = PolynomialFeatures(degree=3)\n",
        "pol_reg.fit_transform(X)\n",
        "X_Pol = pol_reg.fit_transform(X)\n",
        "pol_reg2 = LinearRegression()\n",
        "pol_reg2.fit(X_Pol,y)"
      ],
      "metadata": {
        "colab": {
          "base_uri": "https://localhost:8080/",
          "height": 75
        },
        "id": "NklcDtY3gv56",
        "outputId": "5261f0cf-de4f-4e66-c55b-b626f454d562"
      },
      "execution_count": 203,
      "outputs": [
        {
          "output_type": "execute_result",
          "data": {
            "text/plain": [
              "LinearRegression()"
            ],
            "text/html": [
              "<style>#sk-container-id-12 {color: black;background-color: white;}#sk-container-id-12 pre{padding: 0;}#sk-container-id-12 div.sk-toggleable {background-color: white;}#sk-container-id-12 label.sk-toggleable__label {cursor: pointer;display: block;width: 100%;margin-bottom: 0;padding: 0.3em;box-sizing: border-box;text-align: center;}#sk-container-id-12 label.sk-toggleable__label-arrow:before {content: \"▸\";float: left;margin-right: 0.25em;color: #696969;}#sk-container-id-12 label.sk-toggleable__label-arrow:hover:before {color: black;}#sk-container-id-12 div.sk-estimator:hover label.sk-toggleable__label-arrow:before {color: black;}#sk-container-id-12 div.sk-toggleable__content {max-height: 0;max-width: 0;overflow: hidden;text-align: left;background-color: #f0f8ff;}#sk-container-id-12 div.sk-toggleable__content pre {margin: 0.2em;color: black;border-radius: 0.25em;background-color: #f0f8ff;}#sk-container-id-12 input.sk-toggleable__control:checked~div.sk-toggleable__content {max-height: 200px;max-width: 100%;overflow: auto;}#sk-container-id-12 input.sk-toggleable__control:checked~label.sk-toggleable__label-arrow:before {content: \"▾\";}#sk-container-id-12 div.sk-estimator input.sk-toggleable__control:checked~label.sk-toggleable__label {background-color: #d4ebff;}#sk-container-id-12 div.sk-label input.sk-toggleable__control:checked~label.sk-toggleable__label {background-color: #d4ebff;}#sk-container-id-12 input.sk-hidden--visually {border: 0;clip: rect(1px 1px 1px 1px);clip: rect(1px, 1px, 1px, 1px);height: 1px;margin: -1px;overflow: hidden;padding: 0;position: absolute;width: 1px;}#sk-container-id-12 div.sk-estimator {font-family: monospace;background-color: #f0f8ff;border: 1px dotted black;border-radius: 0.25em;box-sizing: border-box;margin-bottom: 0.5em;}#sk-container-id-12 div.sk-estimator:hover {background-color: #d4ebff;}#sk-container-id-12 div.sk-parallel-item::after {content: \"\";width: 100%;border-bottom: 1px solid gray;flex-grow: 1;}#sk-container-id-12 div.sk-label:hover label.sk-toggleable__label {background-color: #d4ebff;}#sk-container-id-12 div.sk-serial::before {content: \"\";position: absolute;border-left: 1px solid gray;box-sizing: border-box;top: 0;bottom: 0;left: 50%;z-index: 0;}#sk-container-id-12 div.sk-serial {display: flex;flex-direction: column;align-items: center;background-color: white;padding-right: 0.2em;padding-left: 0.2em;position: relative;}#sk-container-id-12 div.sk-item {position: relative;z-index: 1;}#sk-container-id-12 div.sk-parallel {display: flex;align-items: stretch;justify-content: center;background-color: white;position: relative;}#sk-container-id-12 div.sk-item::before, #sk-container-id-12 div.sk-parallel-item::before {content: \"\";position: absolute;border-left: 1px solid gray;box-sizing: border-box;top: 0;bottom: 0;left: 50%;z-index: -1;}#sk-container-id-12 div.sk-parallel-item {display: flex;flex-direction: column;z-index: 1;position: relative;background-color: white;}#sk-container-id-12 div.sk-parallel-item:first-child::after {align-self: flex-end;width: 50%;}#sk-container-id-12 div.sk-parallel-item:last-child::after {align-self: flex-start;width: 50%;}#sk-container-id-12 div.sk-parallel-item:only-child::after {width: 0;}#sk-container-id-12 div.sk-dashed-wrapped {border: 1px dashed gray;margin: 0 0.4em 0.5em 0.4em;box-sizing: border-box;padding-bottom: 0.4em;background-color: white;}#sk-container-id-12 div.sk-label label {font-family: monospace;font-weight: bold;display: inline-block;line-height: 1.2em;}#sk-container-id-12 div.sk-label-container {text-align: center;}#sk-container-id-12 div.sk-container {/* jupyter's `normalize.less` sets `[hidden] { display: none; }` but bootstrap.min.css set `[hidden] { display: none !important; }` so we also need the `!important` here to be able to override the default hidden behavior on the sphinx rendered scikit-learn.org. See: https://github.com/scikit-learn/scikit-learn/issues/21755 */display: inline-block !important;position: relative;}#sk-container-id-12 div.sk-text-repr-fallback {display: none;}</style><div id=\"sk-container-id-12\" class=\"sk-top-container\"><div class=\"sk-text-repr-fallback\"><pre>LinearRegression()</pre><b>In a Jupyter environment, please rerun this cell to show the HTML representation or trust the notebook. <br />On GitHub, the HTML representation is unable to render, please try loading this page with nbviewer.org.</b></div><div class=\"sk-container\" hidden><div class=\"sk-item\"><div class=\"sk-estimator sk-toggleable\"><input class=\"sk-toggleable__control sk-hidden--visually\" id=\"sk-estimator-id-12\" type=\"checkbox\" checked><label for=\"sk-estimator-id-12\" class=\"sk-toggleable__label sk-toggleable__label-arrow\">LinearRegression</label><div class=\"sk-toggleable__content\"><pre>LinearRegression()</pre></div></div></div></div></div>"
            ]
          },
          "metadata": {},
          "execution_count": 203
        }
      ]
    },
    {
      "cell_type": "markdown",
      "source": [
        "##Predictor for PolyRegression"
      ],
      "metadata": {
        "id": "fCG01ex7jD4P"
      }
    },
    {
      "cell_type": "code",
      "source": [
        "y_pred = pol_reg2.predict(X_Pol)"
      ],
      "metadata": {
        "id": "DC89z6fHjJhA"
      },
      "execution_count": 204,
      "outputs": []
    },
    {
      "cell_type": "code",
      "source": [
        "# Comparing the results of the predicted chance of admit with the actual(real) chance of admit test set\n",
        "# Set to display only in two decimal places\n",
        "np.set_printoptions(precision=2)\n",
        "print(np.concatenate((y_pred.reshape(len(y_pred),1) , y.reshape(len(y),1)),1))"
      ],
      "metadata": {
        "colab": {
          "base_uri": "https://localhost:8080/"
        },
        "id": "0Ae1i6YhjbWe",
        "outputId": "5a5c9377-aec7-4163-f5d9-5c8c0b0126c3"
      },
      "execution_count": 205,
      "outputs": [
        {
          "output_type": "stream",
          "name": "stdout",
          "text": [
            "[[0.93 0.92]\n",
            " [0.78 0.76]\n",
            " [0.61 0.72]\n",
            " [0.75 0.8 ]\n",
            " [0.64 0.65]\n",
            " [0.89 0.9 ]\n",
            " [0.7  0.75]\n",
            " [0.67 0.68]\n",
            " [0.58 0.5 ]\n",
            " [0.67 0.45]\n",
            " [0.69 0.52]\n",
            " [0.82 0.84]\n",
            " [0.84 0.78]\n",
            " [0.58 0.62]\n",
            " [0.65 0.61]\n",
            " [0.64 0.54]\n",
            " [0.71 0.66]\n",
            " [0.64 0.65]\n",
            " [0.73 0.63]\n",
            " [0.67 0.62]\n",
            " [0.62 0.64]\n",
            " [0.71 0.7 ]\n",
            " [0.94 0.94]\n",
            " [0.97 0.95]\n",
            " [0.96 0.97]\n",
            " [0.95 0.94]\n",
            " [0.73 0.76]\n",
            " [0.39 0.44]\n",
            " [0.44 0.46]\n",
            " [0.46 0.54]\n",
            " [0.58 0.65]\n",
            " [0.71 0.74]\n",
            " [0.94 0.91]\n",
            " [0.93 0.9 ]\n",
            " [0.93 0.94]\n",
            " [0.86 0.88]\n",
            " [0.61 0.64]\n",
            " [0.55 0.58]\n",
            " [0.54 0.52]\n",
            " [0.49 0.48]\n",
            " [0.61 0.46]\n",
            " [0.64 0.49]\n",
            " [0.63 0.53]\n",
            " [0.78 0.87]\n",
            " [0.93 0.91]\n",
            " [0.87 0.88]\n",
            " [0.92 0.86]\n",
            " [0.82 0.89]\n",
            " [0.8  0.82]\n",
            " [0.76 0.78]\n",
            " [0.77 0.76]\n",
            " [0.61 0.56]\n",
            " [0.81 0.78]\n",
            " [0.74 0.72]\n",
            " [0.67 0.7 ]\n",
            " [0.66 0.64]\n",
            " [0.59 0.64]\n",
            " [0.44 0.46]\n",
            " [0.38 0.36]\n",
            " [0.64 0.42]\n",
            " [0.6  0.48]\n",
            " [0.6  0.47]\n",
            " [0.65 0.54]\n",
            " [0.68 0.56]\n",
            " [0.69 0.52]\n",
            " [0.71 0.55]\n",
            " [0.73 0.61]\n",
            " [0.74 0.57]\n",
            " [0.8  0.68]\n",
            " [0.85 0.78]\n",
            " [0.96 0.94]\n",
            " [0.96 0.96]\n",
            " [0.89 0.93]\n",
            " [0.82 0.84]\n",
            " [0.72 0.74]\n",
            " [0.76 0.72]\n",
            " [0.76 0.74]\n",
            " [0.54 0.64]\n",
            " [0.41 0.44]\n",
            " [0.47 0.46]\n",
            " [0.59 0.5 ]\n",
            " [0.93 0.96]\n",
            " [0.88 0.92]\n",
            " [0.92 0.92]\n",
            " [0.89 0.94]\n",
            " [0.79 0.76]\n",
            " [0.67 0.72]\n",
            " [0.61 0.66]\n",
            " [0.62 0.64]\n",
            " [0.79 0.74]\n",
            " [0.69 0.64]\n",
            " [0.36 0.38]\n",
            " [0.42 0.34]\n",
            " [0.57 0.44]\n",
            " [0.48 0.36]\n",
            " [0.41 0.42]\n",
            " [0.58 0.48]\n",
            " [0.81 0.86]\n",
            " [0.86 0.9 ]\n",
            " [0.79 0.79]\n",
            " [0.7  0.71]\n",
            " [0.62 0.64]\n",
            " [0.61 0.62]\n",
            " [0.67 0.57]\n",
            " [0.81 0.74]\n",
            " [0.76 0.69]\n",
            " [0.84 0.87]\n",
            " [0.89 0.91]\n",
            " [0.93 0.93]\n",
            " [0.72 0.68]\n",
            " [0.59 0.61]\n",
            " [0.78 0.69]\n",
            " [0.68 0.62]\n",
            " [0.67 0.72]\n",
            " [0.71 0.59]\n",
            " [0.75 0.66]\n",
            " [0.66 0.56]\n",
            " [0.45 0.45]\n",
            " [0.52 0.47]\n",
            " [0.75 0.71]\n",
            " [0.95 0.94]\n",
            " [0.94 0.94]\n",
            " [0.59 0.57]\n",
            " [0.66 0.61]\n",
            " [0.61 0.57]\n",
            " [0.63 0.64]\n",
            " [0.81 0.85]\n",
            " [0.73 0.78]\n",
            " [0.82 0.84]\n",
            " [0.94 0.92]\n",
            " [0.95 0.96]\n",
            " [0.76 0.77]\n",
            " [0.64 0.71]\n",
            " [0.81 0.79]\n",
            " [0.88 0.89]\n",
            " [0.82 0.82]\n",
            " [0.65 0.76]\n",
            " [0.65 0.71]\n",
            " [0.81 0.8 ]\n",
            " [0.76 0.78]\n",
            " [0.81 0.84]\n",
            " [0.95 0.9 ]\n",
            " [0.92 0.92]\n",
            " [1.   0.97]\n",
            " [0.79 0.8 ]\n",
            " [0.72 0.81]\n",
            " [0.68 0.75]\n",
            " [0.83 0.83]\n",
            " [0.96 0.96]\n",
            " [0.66 0.79]\n",
            " [0.88 0.93]\n",
            " [0.93 0.94]\n",
            " [0.88 0.86]\n",
            " [0.78 0.79]\n",
            " [0.72 0.8 ]\n",
            " [0.71 0.77]\n",
            " [0.65 0.7 ]\n",
            " [0.64 0.65]\n",
            " [0.63 0.61]\n",
            " [0.57 0.52]\n",
            " [0.58 0.57]\n",
            " [0.53 0.53]\n",
            " [0.66 0.67]\n",
            " [0.68 0.68]\n",
            " [0.82 0.81]\n",
            " [0.78 0.78]\n",
            " [0.65 0.65]\n",
            " [0.65 0.64]\n",
            " [0.6  0.64]\n",
            " [0.61 0.65]\n",
            " [0.67 0.68]\n",
            " [0.93 0.89]\n",
            " [0.83 0.86]\n",
            " [0.86 0.89]\n",
            " [0.84 0.87]\n",
            " [0.81 0.85]\n",
            " [0.86 0.9 ]\n",
            " [0.77 0.82]\n",
            " [0.63 0.72]\n",
            " [0.64 0.73]\n",
            " [0.66 0.71]\n",
            " [0.67 0.71]\n",
            " [0.58 0.68]\n",
            " [0.76 0.75]\n",
            " [0.69 0.72]\n",
            " [0.84 0.89]\n",
            " [0.75 0.84]\n",
            " [0.91 0.93]\n",
            " [0.91 0.93]\n",
            " [0.88 0.88]\n",
            " [0.88 0.9 ]\n",
            " [0.87 0.87]\n",
            " [0.87 0.86]\n",
            " [0.95 0.94]\n",
            " [0.72 0.77]\n",
            " [0.69 0.78]\n",
            " [0.65 0.73]\n",
            " [0.63 0.73]\n",
            " [0.7  0.7 ]\n",
            " [0.75 0.72]\n",
            " [0.72 0.73]\n",
            " [0.69 0.72]\n",
            " [0.98 0.97]\n",
            " [0.94 0.97]\n",
            " [0.68 0.69]\n",
            " [0.55 0.57]\n",
            " [0.62 0.63]\n",
            " [0.66 0.66]\n",
            " [0.65 0.64]\n",
            " [0.68 0.68]\n",
            " [0.82 0.79]\n",
            " [0.86 0.82]\n",
            " [0.95 0.95]\n",
            " [0.98 0.96]\n",
            " [0.89 0.94]\n",
            " [0.92 0.93]\n",
            " [0.86 0.91]\n",
            " [0.85 0.85]\n",
            " [0.85 0.84]\n",
            " [0.67 0.74]\n",
            " [0.73 0.76]\n",
            " [0.71 0.75]\n",
            " [0.76 0.76]\n",
            " [0.68 0.71]\n",
            " [0.63 0.67]\n",
            " [0.59 0.61]\n",
            " [0.69 0.63]\n",
            " [0.7  0.64]\n",
            " [0.71 0.71]\n",
            " [0.86 0.82]\n",
            " [0.74 0.73]\n",
            " [0.69 0.74]\n",
            " [0.65 0.69]\n",
            " [0.63 0.64]\n",
            " [0.91 0.91]\n",
            " [0.89 0.88]\n",
            " [0.85 0.85]\n",
            " [0.91 0.86]\n",
            " [0.64 0.7 ]\n",
            " [0.58 0.59]\n",
            " [0.57 0.6 ]\n",
            " [0.61 0.65]\n",
            " [0.77 0.7 ]\n",
            " [0.81 0.76]\n",
            " [0.68 0.63]\n",
            " [0.85 0.81]\n",
            " [0.72 0.72]\n",
            " [0.68 0.71]\n",
            " [0.78 0.8 ]\n",
            " [0.79 0.77]\n",
            " [0.7  0.74]\n",
            " [0.75 0.7 ]\n",
            " [0.75 0.71]\n",
            " [0.92 0.93]\n",
            " [0.84 0.85]\n",
            " [0.75 0.79]\n",
            " [0.66 0.76]\n",
            " [0.8  0.78]\n",
            " [0.77 0.77]\n",
            " [0.88 0.9 ]\n",
            " [0.88 0.87]\n",
            " [0.69 0.71]\n",
            " [0.74 0.7 ]\n",
            " [0.77 0.7 ]\n",
            " [0.74 0.75]\n",
            " [0.71 0.71]\n",
            " [0.66 0.72]\n",
            " [0.68 0.73]\n",
            " [0.92 0.83]\n",
            " [0.8  0.77]\n",
            " [0.66 0.72]\n",
            " [0.55 0.54]\n",
            " [0.48 0.49]\n",
            " [0.5  0.52]\n",
            " [0.58 0.58]\n",
            " [0.79 0.78]\n",
            " [0.93 0.89]\n",
            " [0.71 0.7 ]\n",
            " [0.67 0.66]\n",
            " [0.64 0.67]\n",
            " [0.62 0.68]\n",
            " [0.78 0.8 ]\n",
            " [0.74 0.81]\n",
            " [0.8  0.8 ]\n",
            " [0.96 0.94]\n",
            " [0.91 0.93]\n",
            " [0.88 0.92]\n",
            " [0.89 0.89]\n",
            " [0.84 0.82]\n",
            " [0.8  0.79]\n",
            " [0.56 0.58]\n",
            " [0.56 0.56]\n",
            " [0.57 0.56]\n",
            " [0.61 0.64]\n",
            " [0.61 0.61]\n",
            " [0.64 0.68]\n",
            " [0.72 0.76]\n",
            " [0.88 0.86]\n",
            " [0.84 0.9 ]\n",
            " [0.7  0.71]\n",
            " [0.61 0.62]\n",
            " [0.69 0.66]\n",
            " [0.68 0.65]\n",
            " [0.71 0.73]\n",
            " [0.65 0.62]\n",
            " [0.78 0.74]\n",
            " [0.82 0.79]\n",
            " [0.83 0.8 ]\n",
            " [0.69 0.69]\n",
            " [0.7  0.7 ]\n",
            " [0.76 0.76]\n",
            " [0.83 0.84]\n",
            " [0.77 0.78]\n",
            " [0.59 0.67]\n",
            " [0.65 0.66]\n",
            " [0.62 0.65]\n",
            " [0.55 0.54]\n",
            " [0.58 0.58]\n",
            " [0.79 0.79]\n",
            " [0.79 0.8 ]\n",
            " [0.71 0.75]\n",
            " [0.7  0.73]\n",
            " [0.68 0.72]\n",
            " [0.63 0.62]\n",
            " [0.64 0.67]\n",
            " [0.83 0.81]\n",
            " [0.57 0.63]\n",
            " [0.59 0.69]\n",
            " [0.79 0.8 ]\n",
            " [0.49 0.43]\n",
            " [0.75 0.8 ]\n",
            " [0.61 0.73]\n",
            " [0.66 0.75]\n",
            " [0.74 0.71]\n",
            " [0.76 0.73]\n",
            " [0.84 0.83]\n",
            " [0.7  0.72]\n",
            " [0.95 0.94]\n",
            " [0.78 0.81]\n",
            " [0.74 0.81]\n",
            " [0.73 0.75]\n",
            " [0.75 0.79]\n",
            " [0.65 0.58]\n",
            " [0.64 0.59]\n",
            " [0.42 0.47]\n",
            " [0.52 0.49]\n",
            " [0.52 0.47]\n",
            " [0.46 0.42]\n",
            " [0.49 0.57]\n",
            " [0.61 0.62]\n",
            " [0.68 0.74]\n",
            " [0.77 0.73]\n",
            " [0.67 0.64]\n",
            " [0.63 0.63]\n",
            " [0.54 0.59]\n",
            " [0.64 0.73]\n",
            " [0.75 0.79]\n",
            " [0.59 0.68]\n",
            " [0.57 0.7 ]\n",
            " [0.7  0.81]\n",
            " [0.81 0.85]\n",
            " [0.92 0.93]\n",
            " [0.91 0.91]\n",
            " [0.66 0.69]\n",
            " [0.74 0.77]\n",
            " [0.87 0.86]\n",
            " [0.75 0.74]\n",
            " [0.54 0.57]\n",
            " [0.47 0.51]\n",
            " [0.69 0.67]\n",
            " [0.63 0.72]\n",
            " [0.81 0.89]\n",
            " [0.94 0.95]\n",
            " [0.73 0.79]\n",
            " [0.55 0.39]\n",
            " [0.54 0.38]\n",
            " [0.48 0.34]\n",
            " [0.52 0.47]\n",
            " [0.56 0.56]\n",
            " [0.71 0.71]\n",
            " [0.76 0.78]\n",
            " [0.75 0.73]\n",
            " [0.85 0.82]\n",
            " [0.63 0.62]\n",
            " [0.94 0.96]\n",
            " [0.98 0.96]\n",
            " [0.61 0.46]\n",
            " [0.61 0.53]\n",
            " [0.53 0.49]\n",
            " [0.73 0.76]\n",
            " [0.64 0.64]\n",
            " [0.71 0.71]\n",
            " [0.85 0.84]\n",
            " [0.68 0.77]\n",
            " [0.86 0.89]\n",
            " [0.81 0.82]\n",
            " [0.82 0.84]\n",
            " [0.91 0.91]\n",
            " [0.74 0.67]\n",
            " [0.97 0.95]]\n"
          ]
        }
      ]
    },
    {
      "cell_type": "code",
      "source": [
        "from sklearn.metrics import r2_score\n",
        "r2_score(y,y_pred)"
      ],
      "metadata": {
        "colab": {
          "base_uri": "https://localhost:8080/"
        },
        "id": "Pt8-krjzj3tn",
        "outputId": "8593ae08-4455-430c-ed4c-05c3ad7e2ee9"
      },
      "execution_count": 206,
      "outputs": [
        {
          "output_type": "execute_result",
          "data": {
            "text/plain": [
              "0.8506760989774554"
            ]
          },
          "metadata": {},
          "execution_count": 206
        }
      ]
    }
  ]
}